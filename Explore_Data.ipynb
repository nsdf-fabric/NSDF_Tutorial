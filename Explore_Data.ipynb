{
 "cells": [
  {
   "cell_type": "code",
   "execution_count": null,
   "id": "250ef129-c335-4f6c-97ea-afc865ca2fda",
   "metadata": {},
   "outputs": [],
   "source": [
    "import numpy as np\n",
    "import matplotlib.pyplot as plt"
   ]
  },
  {
   "cell_type": "code",
   "execution_count": null,
   "id": "860bbfe3-fe43-4a7a-b937-e801b3fd437e",
   "metadata": {},
   "outputs": [],
   "source": [
    "data=np.load('data3.npz')\n",
    "data"
   ]
  },
  {
   "cell_type": "code",
   "execution_count": null,
   "id": "5cf68811-44dc-4bb4-8ff7-03275a167ff7",
   "metadata": {},
   "outputs": [],
   "source": [
    "actual_data=data['data']\n",
    "metadata=data['lon_lat']"
   ]
  },
  {
   "cell_type": "code",
   "execution_count": null,
   "id": "3e6f6b65-5cb4-4515-b163-67229880b966",
   "metadata": {},
   "outputs": [],
   "source": [
    "cmap_instance = plt.get_cmap(\"inferno\")\n",
    "lat_min=metadata[0][0]\n",
    "lat_max=metadata[0][1]\n",
    "lon_min=metadata[1][0]\n",
    "lon_max=metadata[1][1]\n",
    "fig, axs = plt.subplots(1, 1, figsize=(10, 8))\n",
    "axs.set_xlim(lat_min, lat_max)\n",
    "axs.set_ylim(lon_min, lon_max)\n",
    "axs.set_title(\"Selected Sub-Region Of Interest\")\n",
    "axs.set_xlabel(\"Longitude (Degrees)\")\n",
    "axs.set_ylabel(\"Latitude (Degrees)\")\n",
    "data_fig = axs.imshow(\n",
    "    actual_data,\n",
    "    cmap=cmap_instance,\n",
    "    origin=\"lower\",\n",
    "    vmin=30,\n",
    "    vmax=1999,\n",
    "    extent=(lat_min, lat_max, lon_min, lon_max),\n",
    ")\n",
    "\n",
    "cbar = fig.colorbar(\n",
    "    data_fig,\n",
    "    fraction=0.046 * actual_data.shape[0] / actual_data.shape[1],\n",
    "    pad=0.04,\n",
    ")\n",
    "cbar_ticks = np.linspace(30, 1999, 8)\n",
    "cbar.set_ticks(cbar_ticks)"
   ]
  }
 ],
 "metadata": {
  "kernelspec": {
   "display_name": "Python 3 (ipykernel)",
   "language": "python",
   "name": "python3"
  },
  "language_info": {
   "codemirror_mode": {
    "name": "ipython",
    "version": 3
   },
   "file_extension": ".py",
   "mimetype": "text/x-python",
   "name": "python",
   "nbconvert_exporter": "python",
   "pygments_lexer": "ipython3",
   "version": "3.10.13"
  }
 },
 "nbformat": 4,
 "nbformat_minor": 5
}
