{
 "cells": [
  {
   "cell_type": "markdown",
   "id": "e3edd4eb",
   "metadata": {},
   "source": [
    "## Tutorial: Using NSDF for End-to-End Analysis of Scientific Data\n",
    "\n",
    "In this tutorial, you will learn how to:\n",
    "\n",
    "* Build a composable workflow integrating your application module with NSDF services for data visualization and analysis.\n",
    "* Load and store intermediate data from/to public storage options like Dataverse and from/to private storage such as Seal Storage.\n",
    "* Use the NSDF dashboard for data visualization, including zooming into data for detailed analysis, cropping subregions, and saving them locally in a Python-compatible format."
   ]
  },
  {
   "cell_type": "markdown",
   "id": "4d090949",
   "metadata": {},
   "source": [
    "### Tutorial Overview\n",
    "\n",
    "The workflow in Figure 1 uses a chain of tools and services to showcase the NSDF capabilities for studying a terrain parameter dataset generated with [GEOtiled] (URL) (a module of the [SOMOSPIE](https://github.com/TauferLab/SOMOSPIE) engine [cite]). The workflow comprises four steps.\n",
    "\n",
    "**Step 1. Data Generation:** This initial step acquires data from the United States Geological Survey (USGS) and processes it with GEOtiled (as per Option A) or uploads it from either a public or private storage (as per Option B).\n",
    "\n",
    "**Step 2. Conversion to IDX Format:** In this step, Tiff files containing terrain data from the first step are converted into IDX format using OpenVisus. This conversion process results in terrain parameter files that maintain the original accuracy but are more compact in size. These new, optimized files can be stored on either public or private storage solutions.\n",
    "\n",
    "**Step 3. Visualization and Analysis:** The third stage uses the IDX files within OpenVisus for creating visualizations and conducting analysis, with the results displayed on an advanced \n",
    "\n",
    "**Step 4. Use the Dashboard:** The last step allows users to work on large-scale data, extract and save subregions of the original dataset, and study and extract features. \n",
    "\n",
    "Throughout these steps, the workflow incorporates the use of public storage services (Dataverse, CyVerse) and private storage providers (Sera Store, expand). These services are connected to the conversion, visualization, and analysis steps, highlighting their crucial role in this tutorial's data processing and transformation steps.\n",
    "\n",
    "</br>\n",
    "</br>\n",
    "\n",
    "<figure align=\"center\">\n",
    "    <img src=\"files/docs/Openvisus-somospie.png\" width=\"800\">\n",
    "    <figcaption>Figure 1. Tutorial steps.</figcaption>\n",
    "</figure>"
   ]
  },
  {
   "cell_type": "markdown",
   "id": "70d70186",
   "metadata": {},
   "source": [
    "### Preparing your Environment \n",
    "\n",
    "The following cell prepares the environment for processing and visualizing geospatial data by importing various crucial libraries for workflow execution. Please note that running this cell might take some time. Upon completion, a message will be displayed to notify you that the cell execution has finished."
   ]
  },
  {
   "cell_type": "code",
   "execution_count": null,
   "id": "6bf1f88d",
   "metadata": {},
   "outputs": [],
   "source": [
    "import geotiled as gt\n",
    "from pathlib import Path\n",
    "import glob\n",
    "import os\n",
    "import shutil\n",
    "import multiprocessing\n",
    "import OpenVisus as ov\n",
    "import numpy as np\n",
    "import requests\n",
    "import json\n",
    "from matplotlib import pyplot as plt\n",
    "from tqdm import tqdm\n",
    "\n",
    "# To silence a deprecation warning.\n",
    "gt.gdal.UseExceptions()\n",
    "# You have have successfully prepared your environment.\n",
    "print(\"You have successfully prepared your environment.\")"
   ]
  },
  {
   "cell_type": "markdown",
   "id": "fa1412c4",
   "metadata": {
    "tags": []
   },
   "source": [
    "### Step 1. Data Generation\n",
    "\n",
    "Step 1 provides two options for users to obtain data: Option A allow the users to  downloading raw data from a public archive, such as elevation data from the USGS archive, and then processing it using the user's application, in this instance, the GEOtiled module from the [SOMOSPIE] (URL) earth science application. Option B allows users to access data directly from existing public or private storage, in this case from [Dataverse] (URL) without the need for initial downloading and processing."
   ]
  },
  {
   "cell_type": "markdown",
   "id": "72a5066d-af62-4648-8919-e88b6e485f2c",
   "metadata": {},
   "source": [
    "\n",
    "####  Option A: Generating Data Using the SOMOSPIE Application Module\n",
    "\n",
    "We use the [SOMOSPIE](https://github.com/TauferLab/SOMOSPIE) application, specifically its GEOtiled module, to generate a high-resolution dataset of terrain parameters. This process involves using Digital Elevation Models (DEMs) from the USGS 3D Elevation Program as input. The GEOtiled module processes this data to produce three key terrain parameters: slope, aspect, and hillshading, all at a 10km resolution specifically for the state of Tennessee. The output consists of four TIFF format image files, each representing the calculated elevation, slope, aspect, and hillshading."
   ]
  },
  {
   "cell_type": "markdown",
   "id": "3be19f48",
   "metadata": {},
   "source": [
    "The following cell .... WRITE WHAT IT DOES"
   ]
  },
  {
   "cell_type": "code",
   "execution_count": null,
   "id": "2c295e72",
   "metadata": {},
   "outputs": [],
   "source": [
    "download_list = \"./download_urls.txt\"  # Where the list of download links will be stored\n",
    "root_output_folder = \"./files/tif_files/\"  # root folder where geotiled will store data\n",
    "n_tiles = 4  # Number of tiles that are generated for parameter computation\n",
    "dem_tiles_dir_name = \"tiles\"  # Folder where downloaded DEM tiles will be saved\n",
    "param_tiles_dir_name = (\n",
    "    \"elevation_tiles\"  # Folder where computation tiles will be saved.\n",
    ")\n",
    "gcs_name = \"gcs.tif\"  # Name for the mosaicked DEM\n",
    "pcs_name = \"pcs.tif\"  # Name for the projected DEM\n",
    "shapefile = [\"./files/shape_files/STATEFP_47.shp\"]  # Shapefile for Visualization\n",
    "region_bounding_box = {\n",
    "    \"xmin\": -90.4,\n",
    "    \"ymin\": 34.8,\n",
    "    \"xmax\": -81.55,\n",
    "    \"ymax\": 36.8,\n",
    "}  # For `fetch_dem`. X=Longitude Y=Latitude. Determine bounding coordinates by looking at a map.\n",
    "\n",
    "# You have have successfully\n",
    "print(\"You have successfully WRITE WHAT IT IS DONE.\")"
   ]
  },
  {
   "cell_type": "markdown",
   "id": "00276745",
   "metadata": {},
   "source": [
    "The following cell .... WRITE WHAT IT DOES"
   ]
  },
  {
   "cell_type": "code",
   "execution_count": null,
   "id": "548eff08",
   "metadata": {},
   "outputs": [],
   "source": [
    "# Fetching Data\n",
    "tiles_folder = os.path.join(root_output_folder, dem_tiles_dir_name)\n",
    "Path(root_output_folder).mkdir(parents=True, exist_ok=True)\n",
    "Path(tiles_folder).mkdir(parents=True, exist_ok=True)\n",
    "\n",
    "# Setting up for parameter computation\n",
    "gcs = os.path.join(root_output_folder, gcs_name)\n",
    "pcs = os.path.join(root_output_folder, pcs_name)\n",
    "elevation_tiles = os.path.join(root_output_folder, param_tiles_dir_name)\n",
    "Path(elevation_tiles).mkdir(parents=True, exist_ok=True)\n",
    "\n",
    "# Computing Parameters\n",
    "aspect_tiles = os.path.join(root_output_folder, \"aspect_tiles\")\n",
    "hillshading_tiles = os.path.join(root_output_folder, \"hillshading_tiles\")\n",
    "slope_tiles = os.path.join(root_output_folder, \"slope_tiles\")\n",
    "Path(aspect_tiles).mkdir(parents=True, exist_ok=True)\n",
    "Path(hillshading_tiles).mkdir(parents=True, exist_ok=True)\n",
    "Path(slope_tiles).mkdir(parents=True, exist_ok=True)\n",
    "\n",
    "# You have have successfully\n",
    "print(\"You have successfully WRITE WHAT IT IS DONE.\")"
   ]
  },
  {
   "cell_type": "markdown",
   "id": "e0934945",
   "metadata": {},
   "source": [
    "The following cell .... WRITE WHAT IT DOES"
   ]
  },
  {
   "cell_type": "code",
   "execution_count": null,
   "id": "ac8d991b",
   "metadata": {},
   "outputs": [],
   "source": [
    "gt.fetch_dem(\n",
    "    bbox=region_bounding_box,\n",
    "    txtPath=download_list,\n",
    "    dataset=\"National Elevation Dataset (NED) 1 arc-second Current\",\n",
    ")\n",
    "gt.download_files(download_list, tiles_folder)\n",
    "\n",
    "# You have have successfully\n",
    "print(\"You have successfully WRITE WHAT IT IS DONE.\")"
   ]
  },
  {
   "cell_type": "markdown",
   "id": "88fbffae",
   "metadata": {},
   "source": [
    "The following cell .... WRITE WHAT IT DOES"
   ]
  },
  {
   "cell_type": "code",
   "execution_count": null,
   "id": "087a5202",
   "metadata": {},
   "outputs": [],
   "source": [
    "raster_list = glob.glob(tiles_folder + \"/*\")\n",
    "\n",
    "gt.build_mosaic(raster_list, gcs)\n",
    "\n",
    "shutil.rmtree(tiles_folder)\n",
    "os.remove(\"./merged.vrt\")\n",
    "\n",
    "# You have have successfully\n",
    "print(\"You have successfully WRITE WHAT IT IS DONE.\")"
   ]
  },
  {
   "cell_type": "markdown",
   "id": "76c3ce90",
   "metadata": {},
   "source": [
    "The following cell .... WRITE WHAT IT DOES"
   ]
  },
  {
   "cell_type": "code",
   "execution_count": null,
   "id": "f8010be4",
   "metadata": {},
   "outputs": [],
   "source": [
    "gt.reproject(gcs, pcs, \"EPSG:9822\")\n",
    "\n",
    "os.remove(gcs)\n",
    "\n",
    "# You have have successfully\n",
    "print(\"You have successfully WRITE WHAT IT IS DONE.\")"
   ]
  },
  {
   "cell_type": "markdown",
   "id": "6c093aff",
   "metadata": {},
   "source": [
    "The following cell .... WRITE WHAT IT DOES"
   ]
  },
  {
   "cell_type": "code",
   "execution_count": null,
   "id": "6296bf22",
   "metadata": {},
   "outputs": [],
   "source": [
    "gt.crop_into_tiles(pcs, elevation_tiles, n_tiles)\n",
    "\n",
    "glob_of_tiles = glob.glob(elevation_tiles + \"/*.tif\")\n",
    "\n",
    "# You have have successfully\n",
    "print(\"You have successfully WRITE WHAT IT IS DONE.\")"
   ]
  },
  {
   "cell_type": "markdown",
   "id": "c7a45c22",
   "metadata": {},
   "source": [
    "The following cell .... WRITE WHAT IT DOES"
   ]
  },
  {
   "cell_type": "code",
   "execution_count": null,
   "id": "03fb535d",
   "metadata": {},
   "outputs": [],
   "source": [
    "pool = multiprocessing.Pool(processes=n_tiles)\n",
    "pool.map(gt.compute_geotiled, sorted(glob.glob(elevation_tiles + \"/*.tif\")))\n",
    "\n",
    "# You have have successfully\n",
    "print(\"You have successfully WRITE WHAT IT IS DONE.\")"
   ]
  },
  {
   "cell_type": "markdown",
   "id": "18c316e8",
   "metadata": {},
   "source": [
    "The following cell .... WRITE WHAT IT DOES"
   ]
  },
  {
   "cell_type": "code",
   "execution_count": null,
   "id": "537c9b02",
   "metadata": {},
   "outputs": [],
   "source": [
    "gt.build_mosaic_filtered(\n",
    "    sorted(glob.glob(aspect_tiles + \"/*.tif\")),\n",
    "    os.path.join(root_output_folder, \"aspect.tif\"),\n",
    ")\n",
    "gt.build_mosaic_filtered(\n",
    "    sorted(glob.glob(hillshading_tiles + \"/*.tif\")),\n",
    "    os.path.join(root_output_folder, \"hillshading.tif\"),\n",
    ")\n",
    "gt.build_mosaic_filtered(\n",
    "    sorted(glob.glob(slope_tiles + \"/*.tif\")),\n",
    "    os.path.join(root_output_folder, \"slope.tif\"),\n",
    ")\n",
    "\n",
    "\n",
    "shutil.rmtree(aspect_tiles)\n",
    "shutil.rmtree(hillshading_tiles)\n",
    "shutil.rmtree(slope_tiles)\n",
    "shutil.rmtree(elevation_tiles)\n",
    "\n",
    "# You have have successfully\n",
    "print(\"You have successfully WRITE WHAT IT IS DONE.\")"
   ]
  },
  {
   "cell_type": "markdown",
   "id": "75c83ed2",
   "metadata": {},
   "source": [
    "The following cell .... WRITE WHAT IT DOES"
   ]
  },
  {
   "cell_type": "code",
   "execution_count": null,
   "id": "98f780b1",
   "metadata": {},
   "outputs": [],
   "source": [
    "hill = os.path.join(root_output_folder, \"hillshading.tif\")\n",
    "aspect = os.path.join(root_output_folder, \"aspect.tif\")\n",
    "slope = os.path.join(root_output_folder, \"slope.tif\")\n",
    "\n",
    "\n",
    "pcs_array = gt.generate_img(\n",
    "    pcs,\n",
    "    downsample=5,\n",
    "    reproject_gcs=True,\n",
    "    shp_files=shapefile,\n",
    "    title=\"Elevation Data for TN @ 1 Arc-Second/30m Resolution\",\n",
    "    zunit=\"Meter\",\n",
    "    xyunit=\"Degree\",\n",
    "    ztype=\"Elevation\",\n",
    "    crop_shp=True,\n",
    ")\n",
    "hill_array = gt.generate_img(\n",
    "    hill,\n",
    "    downsample=5,\n",
    "    reproject_gcs=True,\n",
    "    shp_files=shapefile,\n",
    "    title=\"Hillshading Data for TN @ 1 Arc-Second/30m Resolution\",\n",
    "    zunit=\"Level\",\n",
    "    xyunit=\"Degree\",\n",
    "    ztype=\"Hillshading\",\n",
    "    crop_shp=True,\n",
    ")\n",
    "aspect_array = gt.generate_img(\n",
    "    aspect,\n",
    "    downsample=5,\n",
    "    reproject_gcs=True,\n",
    "    shp_files=shapefile,\n",
    "    title=\"Aspect Data for Rhode TN @ 1 Arc-Second/30m Resolution\",\n",
    "    zunit=\"Degree\",\n",
    "    xyunit=\"Degree\",\n",
    "    ztype=\"Aspect\",\n",
    "    crop_shp=True,\n",
    ")\n",
    "slope_array = gt.generate_img(\n",
    "    slope,\n",
    "    downsample=5,\n",
    "    reproject_gcs=True,\n",
    "    shp_files=shapefile,\n",
    "    title=\"Slope Data for TN @ 1 Arc-Second/30m Resolution\",\n",
    "    zunit=\"Degree\",\n",
    "    xyunit=\"Degree\",\n",
    "    ztype=\"Slope\",\n",
    "    crop_shp=True,\n",
    ")\n",
    "\n",
    "# You have have successfully\n",
    "print(\"You have successfully WRITE WHAT IT IS DONE.\")"
   ]
  },
  {
   "cell_type": "markdown",
   "id": "c0e53c05-d515-40c6-aa31-d5e2532a04b6",
   "metadata": {},
   "source": [
    "#### Option B. Accessing Data from Dataverse Public Commons\n",
    "\n",
    "High-resolution data for elevation, slope, aspect, and hillshading at a 10m resolution for Tennessee might already exist in public storage repositories. If available, you can directly download this data to proceed to Step 2 without the need for initial data generation."
   ]
  },
  {
   "cell_type": "markdown",
   "id": "3b4b782d",
   "metadata": {},
   "source": [
    "The following cell establishes a connection with a public storage such as Dataverse."
   ]
  },
  {
   "cell_type": "code",
   "execution_count": null,
   "id": "5433cd70-319d-4e0c-b2aa-b9267fe9cc7e",
   "metadata": {},
   "outputs": [],
   "source": [
    "if not os.path.exists(\"files/tif_files\"):\n",
    "    os.mkdir(\"files/tif_files\")\n",
    "\n",
    "with open(\"./files/json/dataverse.json\", \"r\") as file:\n",
    "    urls = json.load(file)\n",
    "\n",
    "\n",
    "def get_data_from_dataverse(file_url, name_file):\n",
    "    resp = requests.get(file_url)\n",
    "    with open(name_file, \"wb\") as f:\n",
    "        f.write(resp.content)\n",
    "\n",
    "\n",
    "for data in tqdm(urls):\n",
    "    get_data_from_dataverse(data.get(\"url\"), data.get(\"name_file\"))\n",
    "    \n",
    "    \n",
    "# You have have successfully\n",
    "print(\"You have successfully WRITE WHAT IT IS DONE.\")"
   ]
  },
  {
   "cell_type": "markdown",
   "id": "8eeb8a50",
   "metadata": {},
   "source": [
    "The following cell downloads previously-generated TIFF files from Dataverse."
   ]
  },
  {
   "cell_type": "code",
   "execution_count": null,
   "id": "35d0dda7-e5ba-4be3-b6f4-865ab31bf875",
   "metadata": {},
   "outputs": [],
   "source": [
    "shapefile = [\"./files/shape_files/STATEFP_47.shp\"]  # Shapefile for Visualization\n",
    "hill = os.path.join(\"./files/tif_files/\", \"TN_30M_hillshading.tif\")\n",
    "aspect = os.path.join(\"./files/tif_files/\", \"TN_30M_aspect.tif\")\n",
    "pcs = os.path.join(\"./files/tif_files/\", \"TN_30M_elevation.tif\")\n",
    "slope = os.path.join(\"./files/tif_files/\", \"TN_30M_slope.tif\")\n",
    "pcs_array = gt.generate_img(\n",
    "    pcs,\n",
    "    downsample=5,\n",
    "    reproject_gcs=True,\n",
    "    shp_files=shapefile,\n",
    "    title=\"Elevation Data for TN @ 1 Arc-Second/30m Resolution\",\n",
    "    zunit=\"Meter\",\n",
    "    xyunit=\"Degree\",\n",
    "    ztype=\"Elevation\",\n",
    "    crop_shp=True,\n",
    ")\n",
    "hill_array = gt.generate_img(\n",
    "    hill,\n",
    "    downsample=5,\n",
    "    reproject_gcs=True,\n",
    "    shp_files=shapefile,\n",
    "    title=\"Hillshading Data for TN @ 1 Arc-Second/30m Resolution\",\n",
    "    zunit=\"Level\",\n",
    "    xyunit=\"Degree\",\n",
    "    ztype=\"Hillshading\",\n",
    "    crop_shp=True,\n",
    ")\n",
    "aspect_array = gt.generate_img(\n",
    "    aspect,\n",
    "    downsample=5,\n",
    "    reproject_gcs=True,\n",
    "    shp_files=shapefile,\n",
    "    title=\"Aspect Data for Rhode TN @ 1 Arc-Second/30m Resolution\",\n",
    "    zunit=\"Degree\",\n",
    "    xyunit=\"Degree\",\n",
    "    ztype=\"Aspect\",\n",
    "    crop_shp=True,\n",
    ")\n",
    "slope_array = gt.generate_img(\n",
    "    slope,\n",
    "    downsample=5,\n",
    "    reproject_gcs=True,\n",
    "    shp_files=shapefile,\n",
    "    title=\"Slope Data for TN @ 1 Arc-Second/30m Resolution\",\n",
    "    zunit=\"Degree\",\n",
    "    xyunit=\"Degree\",\n",
    "    ztype=\"Slope\",\n",
    "    crop_shp=True,\n",
    ")\n",
    "\n",
    "# You have have successfully\n",
    "print(\"You have successfully WRITE WHAT IT IS DONE.\")"
   ]
  },
  {
   "cell_type": "markdown",
   "id": "b69e1562",
   "metadata": {},
   "source": [
    "**Important** The four images created by the GEOtiled module are high-resolution, large, and static. They do not allow users to manipulate the embedded information, including zooming into subregions, cropping them, and saving the cropped areas either locally or on other platforms for further analysis. Additionally, these images are provided in the TIFF format, which results in large file sizes."
   ]
  },
  {
   "cell_type": "markdown",
   "id": "9c079200",
   "metadata": {},
   "source": [
    "###  Step 2: Converting to IDX Format\n",
    "\n",
    "After generating the data, it needs to be converted into the IDX format to be compatible with OpenVisus. This process involves creating a single IDX file that includes all the terrain parameters as distinct fields.\n",
    "\n",
    "**Important:** Completing one of the data generation options in Step 1 is a prerequisite for proceeding with this step."
   ]
  },
  {
   "cell_type": "markdown",
   "id": "803adb1f",
   "metadata": {},
   "source": [
    "The following cell ....."
   ]
  },
  {
   "cell_type": "code",
   "execution_count": null,
   "id": "5adfc770",
   "metadata": {},
   "outputs": [],
   "source": [
    "# Generate lat/lon min/max from tiff\n",
    "from osgeo import gdal, osr\n",
    "hill = os.path.join(\"./files/tif_files/\", \"TN_30M_hillshading.tif\")\n",
    "\n",
    "dataset = gdal.Open(hill)\n",
    "band = dataset.GetRasterBand(1) \n",
    "\n",
    "geotransform = dataset.GetGeoTransform()\n",
    "spatial_ref = osr.SpatialReference(wkt=dataset.GetProjection())\n",
    "\n",
    "target_spatial_ref = osr.SpatialReference()\n",
    "target_spatial_ref.ImportFromEPSG(4326)\n",
    "\n",
    "coord_transform = osr.CoordinateTransformation(spatial_ref, target_spatial_ref)\n",
    "ulx, xres, _, uly, _, yres = geotransform\n",
    "lrx = ulx + (dataset.RasterXSize * xres)\n",
    "lry = uly + (dataset.RasterYSize * yres)\n",
    "top_left_geo = coord_transform.TransformPoint(ulx, uly)\n",
    "bottom_right_geo = coord_transform.TransformPoint(lrx, lry)\n",
    "\n",
    "lon_1, lat_1, _ = top_left_geo \n",
    "lon_2, lat_2, _ = bottom_right_geo\n",
    "lat_min=min(lat_1,lat_2)\n",
    "lat_max=max(lat_1,lat_2)\n",
    "lon_min=min(lon_1,lon_2)\n",
    "lon_max=max(lon_1,lon_2)\n",
    "\n",
    "print(f\"Longitude range: {lat_min} to {lat_max}\")\n",
    "print(f\"Latitude range: {lon_min} to {lon_max}\")\n",
    "\n",
    "# You have have successfully\n",
    "print(\"You have successfully WRITE WHAT IT IS DONE.\")"
   ]
  },
  {
   "cell_type": "markdown",
   "id": "f32dc120",
   "metadata": {},
   "source": [
    "The follwing cell ...  For all fields of IDX, we write the corresponding data. `Fields` should be in this format: [ov.Field(FIELD_NAME, DTYPE)]. After writing, we compress the IDX file with `zip` compression."
   ]
  },
  {
   "cell_type": "code",
   "execution_count": null,
   "id": "885440a9",
   "metadata": {},
   "outputs": [],
   "source": [
    "filename = \"idx_data/Tennessee_terrain_parameters.idx\"\n",
    "all_fields = [\n",
    "    ov.Field(\"elevation\", \"float32\"),\n",
    "    ov.Field(\"hillshading\", \"uint8\"),\n",
    "    ov.Field(\"aspect\", \"float32\"),\n",
    "    ov.Field(\"slope\", \"float32\"),\n",
    "]\n",
    "input_data = [\n",
    "    np.flipud(pcs_array).copy(),\n",
    "    np.flipud(hill_array).copy(),\n",
    "    np.flipud(aspect_array).copy(),\n",
    "    np.flipud(slope_array).copy(),\n",
    "]\n",
    "height, width = input_data[0].shape\n",
    "db = ov.CreateIdx(\n",
    "    url=filename,\n",
    "    dims=[width, height],\n",
    "    fields=all_fields,\n",
    "    arco=\"4mb\",\n",
    "    physic_box=ov.BoxNd.fromString(f\"{lat_min} {lat_max} {lon_min} {lon_max}\"),\n",
    "    time=[0, 0, \"%00000d/\"],\n",
    ")\n",
    "i = 0\n",
    "for fld in db.getFields():\n",
    "    db.write(input_data[i], field=fld)\n",
    "    i += 1\n",
    "db.compressDataset([\"zip\"])\n",
    "\n",
    "# You have have successfully\n",
    "print(\"You have successfully compress the IDX file with the four terrain parmaters.\")"
   ]
  },
  {
   "cell_type": "markdown",
   "id": "a41e9c94",
   "metadata": {},
   "source": [
    "### Step 3: Creating a Dashboard for Visualization and Analysis\n",
    "\n",
    "After the data has been generated, transformed into the correct format, and compressed, we proceed to create the NSDF dashboard. This dashboard enables the visualization and analysis of terrain parameters, either from a local file (Option A) or from remote storage, such as the private Seal Storage (Option B)."
   ]
  },
  {
   "cell_type": "markdown",
   "id": "89ba3af5",
   "metadata": {},
   "source": [
    "#### Option A: Loading the Dataset from Local Storage\n",
    "\n",
    "This option involves importing the dataset into the dashboard directly from local storage contained within the Docker image."
   ]
  },
  {
   "cell_type": "markdown",
   "id": "4095c0f1",
   "metadata": {},
   "source": [
    "The following cell loads the dataset from a local file"
   ]
  },
  {
   "cell_type": "code",
   "execution_count": null,
   "id": "59aae1cb-2fc0-4b83-b23a-7d8f691c014c",
   "metadata": {},
   "outputs": [],
   "source": [
    "filename = \"idx_data/Tennessee_terrain_parameters.idx\"\n",
    "db = ov.LoadDataset(filename)\n",
    "\n",
    "# You have have successfully\n",
    "print(\"You have successfully compress the IDX file with the four terrain parmaters.\")"
   ]
  },
  {
   "cell_type": "markdown",
   "id": "db980ecf",
   "metadata": {},
   "source": [
    "The followitng cell ..."
   ]
  },
  {
   "cell_type": "code",
   "execution_count": null,
   "id": "668c4f32",
   "metadata": {},
   "outputs": [],
   "source": [
    "read_elevation = db.read(field=\"elevation\")\n",
    "read_hillshading = db.read(field=\"hillshading\")\n",
    "read_aspect = db.read(field=\"aspect\")\n",
    "read_slope = db.read(field=\"slope\")\n",
    "\n",
    "# You have have successfully\n",
    "print(\"You have successfully compress the IDX file with the four terrain parmaters.\")"
   ]
  },
  {
   "cell_type": "markdown",
   "id": "dd244d3b",
   "metadata": {},
   "source": [
    "The following cell ...."
   ]
  },
  {
   "cell_type": "code",
   "execution_count": null,
   "id": "d91499b4",
   "metadata": {},
   "outputs": [],
   "source": [
    "fig, axs = plt.subplots(4, 1, figsize=(10, 8))\n",
    "axs[0].imshow(read_elevation, origin=\"lower\", vmin=30, vmax=1999, cmap=\"BuPu_r\")\n",
    "axs[0].set_title(\"Elevation\")\n",
    "axs[1].imshow(read_hillshading, origin=\"lower\", vmin=0, vmax=255, cmap=\"Oranges\")\n",
    "axs[1].set_title(\"Hillshading\")\n",
    "\n",
    "axs[2].imshow(read_aspect, vmin=0, origin=\"lower\", vmax=360, cmap=\"Reds\")\n",
    "axs[2].set_title(\"Aspect\")\n",
    "\n",
    "axs[3].imshow(read_slope, vmin=0, origin=\"lower\", vmax=65.9, cmap=\"Oranges\")\n",
    "axs[3].set_title(\"Slope\")\n",
    "plt.subplots_adjust(wspace=0.4, hspace=0.6)\n",
    "plt.tight_layout()\n",
    "plt.show()\n",
    "\n",
    "# You have have successfully\n",
    "print(\"You have successfully compress the IDX file with the four terrain parmaters.\")"
   ]
  },
  {
   "cell_type": "markdown",
   "id": "92d18e6e",
   "metadata": {},
   "source": [
    "#### Option B: Loading the Dataset from Seal Storage\n",
    "\n",
    "For this option, the dataset is upladed into the dashboard from a private archive that has been previously generated and stored in Seal Storage."
   ]
  },
  {
   "cell_type": "markdown",
   "id": "5975cb46",
   "metadata": {},
   "source": [
    "The following cell ...."
   ]
  },
  {
   "cell_type": "code",
   "execution_count": null,
   "id": "5db099e1",
   "metadata": {},
   "outputs": [],
   "source": [
    "filename = \"Tennessee_terrain_parameters.idx\"\n",
    "HOME_DIR = \"s3://utah/nsdf/somospie/\"  # DONOT change this line\n",
    "data_dir = \"terrain_tennessee/\"\n",
    "upload_dir = HOME_DIR + data_dir\n",
    "s3_path = upload_dir.split(\"://\")[1]\n",
    "s3_path += filename\n",
    "remote_dir = (\n",
    "    \"https://maritime.sealstorage.io/api/v0/s3/\"\n",
    "    + s3_path\n",
    "    + \"?access_key=any&secret_key=any&endpoint_url=https://maritime.sealstorage.io/api/v0/s3&cached=arco\"\n",
    ")\n",
    "\n",
    "db = ov.LoadDataset(remote_dir)\n",
    "\n",
    "# You have have successfully\n",
    "print(\"You have successfully compress the IDX file with the four terrain parmaters.\")"
   ]
  },
  {
   "cell_type": "markdown",
   "id": "96cc75cb",
   "metadata": {},
   "source": [
    "The following cell reads the four parmates from the single IDX file."
   ]
  },
  {
   "cell_type": "code",
   "execution_count": null,
   "id": "b2a340c1",
   "metadata": {},
   "outputs": [],
   "source": [
    "read_elevation = db.read(field=\"elevation\")\n",
    "read_hillshading = db.read(field=\"hillshading\")\n",
    "read_aspect = db.read(field=\"aspect\")\n",
    "read_slope = db.read(field=\"slope\")\n",
    "\n",
    "# You have have successfully\n",
    "print(\"You have successfully compress the IDX file with the four terrain parmaters.\")"
   ]
  },
  {
   "cell_type": "markdown",
   "id": "88bb4ea6",
   "metadata": {},
   "source": [
    "The following cell "
   ]
  },
  {
   "cell_type": "code",
   "execution_count": null,
   "id": "e7515c5b",
   "metadata": {},
   "outputs": [],
   "source": [
    "fig, axs = plt.subplots(4, 1, figsize=(10, 8))\n",
    "axs[0].imshow(read_elevation, origin=\"lower\", vmin=30, vmax=1999, cmap=\"BuPu_r\")\n",
    "axs[0].set_title(\"Elevation\")\n",
    "axs[1].imshow(read_hillshading, origin=\"lower\", vmin=0, vmax=255, cmap=\"Oranges\")\n",
    "axs[1].set_title(\"Hillshading\")\n",
    "\n",
    "axs[2].imshow(read_aspect, vmin=0, origin=\"lower\", vmax=360, cmap=\"Reds\")\n",
    "axs[2].set_title(\"Aspect\")\n",
    "\n",
    "axs[3].imshow(read_slope, vmin=0, origin=\"lower\", vmax=65.9, cmap=\"Oranges\")\n",
    "axs[3].set_title(\"Slope\")\n",
    "plt.subplots_adjust(wspace=0.4, hspace=0.6)\n",
    "plt.tight_layout()\n",
    "plt.show()\n",
    "\n",
    "# You have have successfully\n",
    "print(\"You have successfully compress the IDX file with the four terrain parmaters.\")"
   ]
  },
  {
   "cell_type": "markdown",
   "id": "e176d51b",
   "metadata": {},
   "source": [
    "### Step 4: Analyzing Tennessee's Geoterrain Using the NSDF Dashboard \n",
    "\n",
    "WHAT ARE WE DOING HERE? What is the diffence between Step 3 and step 4?"
   ]
  },
  {
   "cell_type": "markdown",
   "id": "af3dca37-1b7d-4ca7-82b0-aa1d35708045",
   "metadata": {},
   "source": [
    "This cell configures the Port and Address settings."
   ]
  },
  {
   "cell_type": "code",
   "execution_count": null,
   "id": "e80b3656-dc02-4849-9354-a9abf3f50c06",
   "metadata": {},
   "outputs": [],
   "source": [
    "PORT=\"8989\" # Dont change this since this is the forwarded port.\n",
    "ADDRESS=\"0.0.0.0\" #Local to the server; 0.0.0.0 or 127.0.0.1\n",
    "\n",
    "# You have have successfully\n",
    "print(\"You have successfully compress the IDX file with the four terrain parmaters.\")"
   ]
  },
  {
   "cell_type": "markdown",
   "id": "75fc4909",
   "metadata": {},
   "source": [
    "#### Option A. Load dataset from a local storage\n",
    "\n",
    "This cell uplaid data from a local storage to input in the dashboard."
   ]
  },
  {
   "cell_type": "code",
   "execution_count": null,
   "id": "26cc0d14",
   "metadata": {},
   "outputs": [],
   "source": [
    "URL = \"idx_data/Tennessee_terrain_parameters.idx\"\n",
    "\n",
    "# You have have successfully\n",
    "print(\"You have successfully compress the IDX file with the four terrain parmaters.\")"
   ]
  },
  {
   "cell_type": "markdown",
   "id": "d01cc449",
   "metadata": {},
   "source": [
    "#### Option B. Load dataset from Seal Storage\n",
    "\n",
    "This cell uplaid data from a Seal Storage to input in the dashboard. "
   ]
  },
  {
   "cell_type": "code",
   "execution_count": null,
   "id": "6f57edc5-a3c5-420f-8989-a07996ca3148",
   "metadata": {},
   "outputs": [],
   "source": [
    "URL=\"https://maritime.sealstorage.io/api/v0/s3/utah/nsdf/somospie/terrain_tennessee/Tennessee_terrain_parameters.idx?access_key=any&secret_key=any&endpoint_url=https://maritime.sealstorage.io/api/v0/s3&cached=arco\"\n",
    "\n",
    "# You have have successfully\n",
    "print(\"You have successfully compress the IDX file with the four terrain parmaters.\")"
   ]
  },
  {
   "cell_type": "markdown",
   "id": "781b37ea-c79c-414c-bae0-99b101901b29",
   "metadata": {},
   "source": [
    "This cell executes the dashboard, enabling us to zoom into specific subregions of the stae of Tennessee and examine the terrain parameter patterns."
   ]
  },
  {
   "cell_type": "code",
   "execution_count": null,
   "id": "06c74f4b-9102-4ee4-ab7f-7e8dd75abfb8",
   "metadata": {},
   "outputs": [],
   "source": [
    "!python -m panel serve openvisuspy/src/openvisuspy/dashboards --dev --allow-websocket-origin='*' --address=\"{ADDRESS}\" --port \"{PORT}\" --args \"{URL}\""
   ]
  },
  {
   "cell_type": "markdown",
   "id": "f44e7138-bbbe-4368-8b2f-d6989830f7c0",
   "metadata": {},
   "source": [
    "### Visit 0.0.0.0:8989 to explore the dashboard"
   ]
  },
  {
   "cell_type": "code",
   "execution_count": null,
   "id": "49780ca9",
   "metadata": {},
   "outputs": [],
   "source": []
  },
  {
   "cell_type": "markdown",
   "id": "ee0d104b",
   "metadata": {},
   "source": [
    "ADD HERE THE CONUS EXAMPLE"
   ]
  },
  {
   "cell_type": "markdown",
   "id": "48b1d06c",
   "metadata": {},
   "source": [
    "#### Acknowledgment\n",
    "The authors of this tutorial would like to express their gratitude to:\n",
    "\n",
    "Dataverse\n",
    "Seal Storage\n",
    "Vargas Group\n",
    "NSF\n",
    "\n",
    "#### Learn More About SOMOSPIE\n",
    "\n",
    "#### Contact Us\n"
   ]
  },
  {
   "cell_type": "code",
   "execution_count": null,
   "id": "b4cf5caa",
   "metadata": {},
   "outputs": [],
   "source": []
  }
 ],
 "metadata": {
  "kernelspec": {
   "display_name": "Python 3 (ipykernel)",
   "language": "python",
   "name": "python3"
  },
  "language_info": {
   "codemirror_mode": {
    "name": "ipython",
    "version": 3
   },
   "file_extension": ".py",
   "mimetype": "text/x-python",
   "name": "python",
   "nbconvert_exporter": "python",
   "pygments_lexer": "ipython3",
   "version": "3.11.5"
  },
  "vscode": {
   "interpreter": {
    "hash": "31f2aee4e71d21fbe5cf8b01ff0e069b9275f58929596ceb00d14d90e3e16cd6"
   }
  }
 },
 "nbformat": 4,
 "nbformat_minor": 5
}
